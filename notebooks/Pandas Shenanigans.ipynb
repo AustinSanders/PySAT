{
 "cells": [
  {
   "cell_type": "code",
   "execution_count": 7,
   "metadata": {},
   "outputs": [],
   "source": [
    "import libpysat as ps\n",
    "import numpy as np"
   ]
  },
  {
   "cell_type": "code",
   "execution_count": 8,
   "metadata": {},
   "outputs": [
    {
     "data": {
      "text/plain": [
       "['__builtins__',\n",
       " '__cached__',\n",
       " '__doc__',\n",
       " '__file__',\n",
       " '__loader__',\n",
       " '__name__',\n",
       " '__package__',\n",
       " '__path__',\n",
       " '__spec__']"
      ]
     },
     "execution_count": 8,
     "metadata": {},
     "output_type": "execute_result"
    }
   ],
   "source": [
    "dir(ps.derived)"
   ]
  },
  {
   "cell_type": "code",
   "execution_count": 123,
   "metadata": {},
   "outputs": [],
   "source": [
    "def linear(data, wv_array, axis=0):\n",
    "    y1 = data[0]\n",
    "    y2 = data[-1]\n",
    "    wv1 = wv_array[0]\n",
    "    wv2 = wv_array[-1]\n",
    "    m = (y2 - y1) / (wv2 - wv1)    \n",
    "    b = y1 - (m * wv1)\n",
    "    wv_array = np.repeat(wv_array, m.size, axis=0).reshape([s for s in data.shape])\n",
    "    y = (m * wv_array + b)\n",
    "    return y"
   ]
  },
  {
   "cell_type": "code",
   "execution_count": 157,
   "metadata": {
    "scrolled": false
   },
   "outputs": [
    {
     "data": {
      "text/plain": [
       "(array([[0, 0, 0, 0, 0],\n",
       "        [1, 1, 1, 1, 1],\n",
       "        [2, 2, 2, 2, 2],\n",
       "        [3, 3, 3, 3, 3],\n",
       "        [4, 4, 4, 4, 4]]), array([1, 2, 3, 4, 5]))"
      ]
     },
     "execution_count": 157,
     "metadata": {},
     "output_type": "execute_result"
    }
   ],
   "source": [
    "arr = np.repeat(np.arange(5), 5).reshape(5,5)\n",
    "waves = np.asarray([1,2,3,4,5])\n",
    "arr, waves"
   ]
  },
  {
   "cell_type": "code",
   "execution_count": 163,
   "metadata": {},
   "outputs": [
    {
     "data": {
      "text/plain": [
       "array([1, 2, 3])"
      ]
     },
     "execution_count": 163,
     "metadata": {},
     "output_type": "execute_result"
    }
   ],
   "source": [
    "np.repeat([1,2,3], 1)"
   ]
  },
  {
   "cell_type": "code",
   "execution_count": null,
   "metadata": {},
   "outputs": [],
   "source": []
  },
  {
   "cell_type": "code",
   "execution_count": 158,
   "metadata": {},
   "outputs": [
    {
     "data": {
      "text/plain": [
       "array([0, 0, 0, 0, 0])"
      ]
     },
     "execution_count": 158,
     "metadata": {},
     "output_type": "execute_result"
    }
   ],
   "source": [
    "arr[0]"
   ]
  },
  {
   "cell_type": "code",
   "execution_count": 162,
   "metadata": {},
   "outputs": [
    {
     "data": {
      "text/plain": [
       "array([ 1.,  1.,  1.,  1.,  1.])"
      ]
     },
     "execution_count": 162,
     "metadata": {},
     "output_type": "execute_result"
    }
   ],
   "source": [
    "linear(arr[1], [0, 2, 3, 4, 5])"
   ]
  },
  {
   "cell_type": "code",
   "execution_count": 122,
   "metadata": {},
   "outputs": [
    {
     "name": "stdout",
     "output_type": "stream",
     "text": [
      "[[ 13.5 -22.    3.   -7.5  19.5]\n",
      " [ 21.   -3.5 -31.5  42.  -23. ]\n",
      " [ 14.5  28.    4.   30.5   1. ]\n",
      " [  6.5 -20.  -18.   40.5  19.5]\n",
      " [  7.5 -17.5 -22.5  18.   35. ]]\n"
     ]
    },
    {
     "data": {
      "text/plain": [
       "array([[[ 58. ,  94. ,   5. ,  26. ,  23. ],\n",
       "        [ 25. ,  68. ,  92. ,  14. ,  85. ],\n",
       "        [ 57. ,  12. ,  44. ,  30. ,  64. ],\n",
       "        [  7. ,  70. ,  88. ,   4. ,   0. ],\n",
       "        [ 55. ,  62. ,  45. ,   0. ,   5. ]],\n",
       "\n",
       "       [[ 71.5,  72. ,   8. ,  18.5,  42.5],\n",
       "        [ 46. ,  64.5,  60.5,  56. ,  62. ],\n",
       "        [ 71.5,  40. ,  48. ,  60.5,  65. ],\n",
       "        [ 13.5,  50. ,  70. ,  44.5,  19.5],\n",
       "        [ 62.5,  44.5,  22.5,  18. ,  40. ]],\n",
       "\n",
       "       [[ 85. ,  50. ,  11. ,  11. ,  62. ],\n",
       "        [ 67. ,  61. ,  29. ,  98. ,  39. ],\n",
       "        [ 86. ,  68. ,  52. ,  91. ,  66. ],\n",
       "        [ 20. ,  30. ,  52. ,  85. ,  39. ],\n",
       "        [ 70. ,  27. ,   0. ,  36. ,  75. ]]])"
      ]
     },
     "execution_count": 122,
     "metadata": {},
     "output_type": "execute_result"
    }
   ],
   "source": [
    "linear(arr, waves)"
   ]
  },
  {
   "cell_type": "code",
   "execution_count": null,
   "metadata": {},
   "outputs": [],
   "source": []
  },
  {
   "cell_type": "code",
   "execution_count": null,
   "metadata": {},
   "outputs": [],
   "source": []
  },
  {
   "cell_type": "code",
   "execution_count": null,
   "metadata": {},
   "outputs": [],
   "source": []
  },
  {
   "cell_type": "code",
   "execution_count": null,
   "metadata": {},
   "outputs": [],
   "source": []
  },
  {
   "cell_type": "code",
   "execution_count": null,
   "metadata": {},
   "outputs": [],
   "source": []
  },
  {
   "cell_type": "code",
   "execution_count": null,
   "metadata": {},
   "outputs": [],
   "source": []
  },
  {
   "cell_type": "code",
   "execution_count": null,
   "metadata": {},
   "outputs": [],
   "source": []
  },
  {
   "cell_type": "code",
   "execution_count": 3,
   "metadata": {},
   "outputs": [],
   "source": [
    "import pandas as pd \n",
    "\n",
    "class SubclassedSeries(pd.Series):\n",
    "    # normal properties\n",
    "    _metadata = ['tolerance']\n",
    "\n",
    "    @property\n",
    "    def _constructor(self):\n",
    "        return SubclassedSeries\n",
    "\n",
    "    @property\n",
    "    def _constructor_expanddim(self):\n",
    "        return SubclassedDataFrame\n",
    "\n",
    "class SubclassedDataFrame(pd.DataFrame):\n",
    "    def __init__(self, *args, **kw):\n",
    "        super(SubclassedDataFrame, self).__init__(*args, **kw)\n",
    "        \n",
    "    @property\n",
    "    def _constructor(self):\n",
    "        return SubclassedDataFrame\n",
    "\n",
    "    @property\n",
    "    def _constructor_sliced(self):\n",
    "        return SubclassedSeries"
   ]
  },
  {
   "cell_type": "code",
   "execution_count": 4,
   "metadata": {},
   "outputs": [
    {
     "ename": "SyntaxError",
     "evalue": "invalid syntax (<ipython-input-4-0236aa0288f9>, line 2)",
     "output_type": "error",
     "traceback": [
      "\u001b[0;36m  File \u001b[0;32m\"<ipython-input-4-0236aa0288f9>\"\u001b[0;36m, line \u001b[0;32m2\u001b[0m\n\u001b[0;31m    np.is\u001b[0m\n\u001b[0m        ^\u001b[0m\n\u001b[0;31mSyntaxError\u001b[0m\u001b[0;31m:\u001b[0m invalid syntax\n"
     ]
    }
   ],
   "source": [
    "d = pd.DataFrame.from_dict([{'test1': 5.42, 'test2': 22, 'test3' : 33, 45.5:10}]).set_index(['test1', 45.5])\n",
    "np.is"
   ]
  },
  {
   "cell_type": "code",
   "execution_count": null,
   "metadata": {
    "scrolled": false
   },
   "outputs": [],
   "source": [
    "import numpy as np\n",
    "x,y = d.index.levels"
   ]
  },
  {
   "cell_type": "code",
   "execution_count": null,
   "metadata": {},
   "outputs": [],
   "source": [
    "def gettype(row):\n",
    "    return type(row)\n",
    "\n",
    "def changetype(row):\n",
    "    row.__class__ = SubclassedSeries\n",
    "    return type(row)"
   ]
  },
  {
   "cell_type": "code",
   "execution_count": null,
   "metadata": {},
   "outputs": [],
   "source": [
    "# this is a problem\n",
    "d.apply(gettype, axis=1)"
   ]
  },
  {
   "cell_type": "code",
   "execution_count": null,
   "metadata": {
    "scrolled": false
   },
   "outputs": [],
   "source": []
  },
  {
   "cell_type": "code",
   "execution_count": null,
   "metadata": {},
   "outputs": [],
   "source": []
  }
 ],
 "metadata": {
  "kernelspec": {
   "display_name": "Python 3",
   "language": "python",
   "name": "python3"
  },
  "language_info": {
   "codemirror_mode": {
    "name": "ipython",
    "version": 3
   },
   "file_extension": ".py",
   "mimetype": "text/x-python",
   "name": "python",
   "nbconvert_exporter": "python",
   "pygments_lexer": "ipython3",
   "version": "3.6.4"
  }
 },
 "nbformat": 4,
 "nbformat_minor": 2
}
